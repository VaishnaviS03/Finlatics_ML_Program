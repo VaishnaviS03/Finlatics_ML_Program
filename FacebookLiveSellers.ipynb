{
  "nbformat": 4,
  "nbformat_minor": 0,
  "metadata": {
    "colab": {
      "provenance": []
    },
    "kernelspec": {
      "name": "python3",
      "display_name": "Python 3"
    },
    "language_info": {
      "name": "python"
    }
  },
  "cells": [
    {
      "cell_type": "markdown",
      "source": [
        "#Importing Libraries"
      ],
      "metadata": {
        "id": "_gXvXOiIGPCj"
      }
    },
    {
      "cell_type": "code",
      "execution_count": null,
      "metadata": {
        "id": "XT-FYSUIGKAe"
      },
      "outputs": [],
      "source": [
        "import numpy as np\n",
        "import matplotlib.pyplot as plt\n",
        "import pandas as pd"
      ]
    },
    {
      "cell_type": "markdown",
      "source": [
        "#Importing the Dataset"
      ],
      "metadata": {
        "id": "jXAH3pKMGj5U"
      }
    },
    {
      "cell_type": "code",
      "source": [
        "#using only the first 12 columns since the last 4 are redundant\n",
        "dataset = pd.read_csv('Facebook_Marketplace_data.csv', usecols = range(1, 12))"
      ],
      "metadata": {
        "id": "ydkaw2QTGntD"
      },
      "execution_count": null,
      "outputs": []
    },
    {
      "cell_type": "code",
      "source": [
        "dataset.head()"
      ],
      "metadata": {
        "colab": {
          "base_uri": "https://localhost:8080/",
          "height": 206
        },
        "id": "4rGWxlLyMxnS",
        "outputId": "537326b2-70b6-4731-9a5d-057cf802e68d"
      },
      "execution_count": null,
      "outputs": [
        {
          "output_type": "execute_result",
          "data": {
            "text/plain": [
              "  status_type status_published  num_reactions  num_comments  num_shares  \\\n",
              "0       video   4/22/2018 6:00            529           512         262   \n",
              "1       photo  4/21/2018 22:45            150             0           0   \n",
              "2       video   4/21/2018 6:17            227           236          57   \n",
              "3       photo   4/21/2018 2:29            111             0           0   \n",
              "4       photo   4/18/2018 3:22            213             0           0   \n",
              "\n",
              "   num_likes  num_loves  num_wows  num_hahas  num_sads  num_angrys  \n",
              "0        432         92         3          1         1           0  \n",
              "1        150          0         0          0         0           0  \n",
              "2        204         21         1          1         0           0  \n",
              "3        111          0         0          0         0           0  \n",
              "4        204          9         0          0         0           0  "
            ],
            "text/html": [
              "\n",
              "  <div id=\"df-95b20d97-9f8d-4f0a-938b-db3b2c013dd4\" class=\"colab-df-container\">\n",
              "    <div>\n",
              "<style scoped>\n",
              "    .dataframe tbody tr th:only-of-type {\n",
              "        vertical-align: middle;\n",
              "    }\n",
              "\n",
              "    .dataframe tbody tr th {\n",
              "        vertical-align: top;\n",
              "    }\n",
              "\n",
              "    .dataframe thead th {\n",
              "        text-align: right;\n",
              "    }\n",
              "</style>\n",
              "<table border=\"1\" class=\"dataframe\">\n",
              "  <thead>\n",
              "    <tr style=\"text-align: right;\">\n",
              "      <th></th>\n",
              "      <th>status_type</th>\n",
              "      <th>status_published</th>\n",
              "      <th>num_reactions</th>\n",
              "      <th>num_comments</th>\n",
              "      <th>num_shares</th>\n",
              "      <th>num_likes</th>\n",
              "      <th>num_loves</th>\n",
              "      <th>num_wows</th>\n",
              "      <th>num_hahas</th>\n",
              "      <th>num_sads</th>\n",
              "      <th>num_angrys</th>\n",
              "    </tr>\n",
              "  </thead>\n",
              "  <tbody>\n",
              "    <tr>\n",
              "      <th>0</th>\n",
              "      <td>video</td>\n",
              "      <td>4/22/2018 6:00</td>\n",
              "      <td>529</td>\n",
              "      <td>512</td>\n",
              "      <td>262</td>\n",
              "      <td>432</td>\n",
              "      <td>92</td>\n",
              "      <td>3</td>\n",
              "      <td>1</td>\n",
              "      <td>1</td>\n",
              "      <td>0</td>\n",
              "    </tr>\n",
              "    <tr>\n",
              "      <th>1</th>\n",
              "      <td>photo</td>\n",
              "      <td>4/21/2018 22:45</td>\n",
              "      <td>150</td>\n",
              "      <td>0</td>\n",
              "      <td>0</td>\n",
              "      <td>150</td>\n",
              "      <td>0</td>\n",
              "      <td>0</td>\n",
              "      <td>0</td>\n",
              "      <td>0</td>\n",
              "      <td>0</td>\n",
              "    </tr>\n",
              "    <tr>\n",
              "      <th>2</th>\n",
              "      <td>video</td>\n",
              "      <td>4/21/2018 6:17</td>\n",
              "      <td>227</td>\n",
              "      <td>236</td>\n",
              "      <td>57</td>\n",
              "      <td>204</td>\n",
              "      <td>21</td>\n",
              "      <td>1</td>\n",
              "      <td>1</td>\n",
              "      <td>0</td>\n",
              "      <td>0</td>\n",
              "    </tr>\n",
              "    <tr>\n",
              "      <th>3</th>\n",
              "      <td>photo</td>\n",
              "      <td>4/21/2018 2:29</td>\n",
              "      <td>111</td>\n",
              "      <td>0</td>\n",
              "      <td>0</td>\n",
              "      <td>111</td>\n",
              "      <td>0</td>\n",
              "      <td>0</td>\n",
              "      <td>0</td>\n",
              "      <td>0</td>\n",
              "      <td>0</td>\n",
              "    </tr>\n",
              "    <tr>\n",
              "      <th>4</th>\n",
              "      <td>photo</td>\n",
              "      <td>4/18/2018 3:22</td>\n",
              "      <td>213</td>\n",
              "      <td>0</td>\n",
              "      <td>0</td>\n",
              "      <td>204</td>\n",
              "      <td>9</td>\n",
              "      <td>0</td>\n",
              "      <td>0</td>\n",
              "      <td>0</td>\n",
              "      <td>0</td>\n",
              "    </tr>\n",
              "  </tbody>\n",
              "</table>\n",
              "</div>\n",
              "    <div class=\"colab-df-buttons\">\n",
              "\n",
              "  <div class=\"colab-df-container\">\n",
              "    <button class=\"colab-df-convert\" onclick=\"convertToInteractive('df-95b20d97-9f8d-4f0a-938b-db3b2c013dd4')\"\n",
              "            title=\"Convert this dataframe to an interactive table.\"\n",
              "            style=\"display:none;\">\n",
              "\n",
              "  <svg xmlns=\"http://www.w3.org/2000/svg\" height=\"24px\" viewBox=\"0 -960 960 960\">\n",
              "    <path d=\"M120-120v-720h720v720H120Zm60-500h600v-160H180v160Zm220 220h160v-160H400v160Zm0 220h160v-160H400v160ZM180-400h160v-160H180v160Zm440 0h160v-160H620v160ZM180-180h160v-160H180v160Zm440 0h160v-160H620v160Z\"/>\n",
              "  </svg>\n",
              "    </button>\n",
              "\n",
              "  <style>\n",
              "    .colab-df-container {\n",
              "      display:flex;\n",
              "      gap: 12px;\n",
              "    }\n",
              "\n",
              "    .colab-df-convert {\n",
              "      background-color: #E8F0FE;\n",
              "      border: none;\n",
              "      border-radius: 50%;\n",
              "      cursor: pointer;\n",
              "      display: none;\n",
              "      fill: #1967D2;\n",
              "      height: 32px;\n",
              "      padding: 0 0 0 0;\n",
              "      width: 32px;\n",
              "    }\n",
              "\n",
              "    .colab-df-convert:hover {\n",
              "      background-color: #E2EBFA;\n",
              "      box-shadow: 0px 1px 2px rgba(60, 64, 67, 0.3), 0px 1px 3px 1px rgba(60, 64, 67, 0.15);\n",
              "      fill: #174EA6;\n",
              "    }\n",
              "\n",
              "    .colab-df-buttons div {\n",
              "      margin-bottom: 4px;\n",
              "    }\n",
              "\n",
              "    [theme=dark] .colab-df-convert {\n",
              "      background-color: #3B4455;\n",
              "      fill: #D2E3FC;\n",
              "    }\n",
              "\n",
              "    [theme=dark] .colab-df-convert:hover {\n",
              "      background-color: #434B5C;\n",
              "      box-shadow: 0px 1px 3px 1px rgba(0, 0, 0, 0.15);\n",
              "      filter: drop-shadow(0px 1px 2px rgba(0, 0, 0, 0.3));\n",
              "      fill: #FFFFFF;\n",
              "    }\n",
              "  </style>\n",
              "\n",
              "    <script>\n",
              "      const buttonEl =\n",
              "        document.querySelector('#df-95b20d97-9f8d-4f0a-938b-db3b2c013dd4 button.colab-df-convert');\n",
              "      buttonEl.style.display =\n",
              "        google.colab.kernel.accessAllowed ? 'block' : 'none';\n",
              "\n",
              "      async function convertToInteractive(key) {\n",
              "        const element = document.querySelector('#df-95b20d97-9f8d-4f0a-938b-db3b2c013dd4');\n",
              "        const dataTable =\n",
              "          await google.colab.kernel.invokeFunction('convertToInteractive',\n",
              "                                                    [key], {});\n",
              "        if (!dataTable) return;\n",
              "\n",
              "        const docLinkHtml = 'Like what you see? Visit the ' +\n",
              "          '<a target=\"_blank\" href=https://colab.research.google.com/notebooks/data_table.ipynb>data table notebook</a>'\n",
              "          + ' to learn more about interactive tables.';\n",
              "        element.innerHTML = '';\n",
              "        dataTable['output_type'] = 'display_data';\n",
              "        await google.colab.output.renderOutput(dataTable, element);\n",
              "        const docLink = document.createElement('div');\n",
              "        docLink.innerHTML = docLinkHtml;\n",
              "        element.appendChild(docLink);\n",
              "      }\n",
              "    </script>\n",
              "  </div>\n",
              "\n",
              "\n",
              "<div id=\"df-52f02b25-10b4-4719-ae72-d49cda2ce34e\">\n",
              "  <button class=\"colab-df-quickchart\" onclick=\"quickchart('df-52f02b25-10b4-4719-ae72-d49cda2ce34e')\"\n",
              "            title=\"Suggest charts\"\n",
              "            style=\"display:none;\">\n",
              "\n",
              "<svg xmlns=\"http://www.w3.org/2000/svg\" height=\"24px\"viewBox=\"0 0 24 24\"\n",
              "     width=\"24px\">\n",
              "    <g>\n",
              "        <path d=\"M19 3H5c-1.1 0-2 .9-2 2v14c0 1.1.9 2 2 2h14c1.1 0 2-.9 2-2V5c0-1.1-.9-2-2-2zM9 17H7v-7h2v7zm4 0h-2V7h2v10zm4 0h-2v-4h2v4z\"/>\n",
              "    </g>\n",
              "</svg>\n",
              "  </button>\n",
              "\n",
              "<style>\n",
              "  .colab-df-quickchart {\n",
              "      --bg-color: #E8F0FE;\n",
              "      --fill-color: #1967D2;\n",
              "      --hover-bg-color: #E2EBFA;\n",
              "      --hover-fill-color: #174EA6;\n",
              "      --disabled-fill-color: #AAA;\n",
              "      --disabled-bg-color: #DDD;\n",
              "  }\n",
              "\n",
              "  [theme=dark] .colab-df-quickchart {\n",
              "      --bg-color: #3B4455;\n",
              "      --fill-color: #D2E3FC;\n",
              "      --hover-bg-color: #434B5C;\n",
              "      --hover-fill-color: #FFFFFF;\n",
              "      --disabled-bg-color: #3B4455;\n",
              "      --disabled-fill-color: #666;\n",
              "  }\n",
              "\n",
              "  .colab-df-quickchart {\n",
              "    background-color: var(--bg-color);\n",
              "    border: none;\n",
              "    border-radius: 50%;\n",
              "    cursor: pointer;\n",
              "    display: none;\n",
              "    fill: var(--fill-color);\n",
              "    height: 32px;\n",
              "    padding: 0;\n",
              "    width: 32px;\n",
              "  }\n",
              "\n",
              "  .colab-df-quickchart:hover {\n",
              "    background-color: var(--hover-bg-color);\n",
              "    box-shadow: 0 1px 2px rgba(60, 64, 67, 0.3), 0 1px 3px 1px rgba(60, 64, 67, 0.15);\n",
              "    fill: var(--button-hover-fill-color);\n",
              "  }\n",
              "\n",
              "  .colab-df-quickchart-complete:disabled,\n",
              "  .colab-df-quickchart-complete:disabled:hover {\n",
              "    background-color: var(--disabled-bg-color);\n",
              "    fill: var(--disabled-fill-color);\n",
              "    box-shadow: none;\n",
              "  }\n",
              "\n",
              "  .colab-df-spinner {\n",
              "    border: 2px solid var(--fill-color);\n",
              "    border-color: transparent;\n",
              "    border-bottom-color: var(--fill-color);\n",
              "    animation:\n",
              "      spin 1s steps(1) infinite;\n",
              "  }\n",
              "\n",
              "  @keyframes spin {\n",
              "    0% {\n",
              "      border-color: transparent;\n",
              "      border-bottom-color: var(--fill-color);\n",
              "      border-left-color: var(--fill-color);\n",
              "    }\n",
              "    20% {\n",
              "      border-color: transparent;\n",
              "      border-left-color: var(--fill-color);\n",
              "      border-top-color: var(--fill-color);\n",
              "    }\n",
              "    30% {\n",
              "      border-color: transparent;\n",
              "      border-left-color: var(--fill-color);\n",
              "      border-top-color: var(--fill-color);\n",
              "      border-right-color: var(--fill-color);\n",
              "    }\n",
              "    40% {\n",
              "      border-color: transparent;\n",
              "      border-right-color: var(--fill-color);\n",
              "      border-top-color: var(--fill-color);\n",
              "    }\n",
              "    60% {\n",
              "      border-color: transparent;\n",
              "      border-right-color: var(--fill-color);\n",
              "    }\n",
              "    80% {\n",
              "      border-color: transparent;\n",
              "      border-right-color: var(--fill-color);\n",
              "      border-bottom-color: var(--fill-color);\n",
              "    }\n",
              "    90% {\n",
              "      border-color: transparent;\n",
              "      border-bottom-color: var(--fill-color);\n",
              "    }\n",
              "  }\n",
              "</style>\n",
              "\n",
              "  <script>\n",
              "    async function quickchart(key) {\n",
              "      const quickchartButtonEl =\n",
              "        document.querySelector('#' + key + ' button');\n",
              "      quickchartButtonEl.disabled = true;  // To prevent multiple clicks.\n",
              "      quickchartButtonEl.classList.add('colab-df-spinner');\n",
              "      try {\n",
              "        const charts = await google.colab.kernel.invokeFunction(\n",
              "            'suggestCharts', [key], {});\n",
              "      } catch (error) {\n",
              "        console.error('Error during call to suggestCharts:', error);\n",
              "      }\n",
              "      quickchartButtonEl.classList.remove('colab-df-spinner');\n",
              "      quickchartButtonEl.classList.add('colab-df-quickchart-complete');\n",
              "    }\n",
              "    (() => {\n",
              "      let quickchartButtonEl =\n",
              "        document.querySelector('#df-52f02b25-10b4-4719-ae72-d49cda2ce34e button');\n",
              "      quickchartButtonEl.style.display =\n",
              "        google.colab.kernel.accessAllowed ? 'block' : 'none';\n",
              "    })();\n",
              "  </script>\n",
              "</div>\n",
              "\n",
              "    </div>\n",
              "  </div>\n"
            ],
            "application/vnd.google.colaboratory.intrinsic+json": {
              "type": "dataframe",
              "variable_name": "dataset",
              "summary": "{\n  \"name\": \"dataset\",\n  \"rows\": 7050,\n  \"fields\": [\n    {\n      \"column\": \"status_type\",\n      \"properties\": {\n        \"dtype\": \"category\",\n        \"num_unique_values\": 4,\n        \"samples\": [\n          \"photo\",\n          \"status\",\n          \"video\"\n        ],\n        \"semantic_type\": \"\",\n        \"description\": \"\"\n      }\n    },\n    {\n      \"column\": \"status_published\",\n      \"properties\": {\n        \"dtype\": \"object\",\n        \"num_unique_values\": 6913,\n        \"samples\": [\n          \"4/11/2018 21:12\",\n          \"11/4/2013 10:16\",\n          \"5/19/2018 7:03\"\n        ],\n        \"semantic_type\": \"\",\n        \"description\": \"\"\n      }\n    },\n    {\n      \"column\": \"num_reactions\",\n      \"properties\": {\n        \"dtype\": \"number\",\n        \"std\": 462,\n        \"min\": 0,\n        \"max\": 4710,\n        \"num_unique_values\": 1067,\n        \"samples\": [\n          406,\n          1864,\n          317\n        ],\n        \"semantic_type\": \"\",\n        \"description\": \"\"\n      }\n    },\n    {\n      \"column\": \"num_comments\",\n      \"properties\": {\n        \"dtype\": \"number\",\n        \"std\": 889,\n        \"min\": 0,\n        \"max\": 20990,\n        \"num_unique_values\": 993,\n        \"samples\": [\n          3287,\n          311,\n          543\n        ],\n        \"semantic_type\": \"\",\n        \"description\": \"\"\n      }\n    },\n    {\n      \"column\": \"num_shares\",\n      \"properties\": {\n        \"dtype\": \"number\",\n        \"std\": 131,\n        \"min\": 0,\n        \"max\": 3424,\n        \"num_unique_values\": 501,\n        \"samples\": [\n          234,\n          78,\n          298\n        ],\n        \"semantic_type\": \"\",\n        \"description\": \"\"\n      }\n    },\n    {\n      \"column\": \"num_likes\",\n      \"properties\": {\n        \"dtype\": \"number\",\n        \"std\": 449,\n        \"min\": 0,\n        \"max\": 4710,\n        \"num_unique_values\": 1044,\n        \"samples\": [\n          844,\n          876,\n          2399\n        ],\n        \"semantic_type\": \"\",\n        \"description\": \"\"\n      }\n    },\n    {\n      \"column\": \"num_loves\",\n      \"properties\": {\n        \"dtype\": \"number\",\n        \"std\": 39,\n        \"min\": 0,\n        \"max\": 657,\n        \"num_unique_values\": 229,\n        \"samples\": [\n          101,\n          136,\n          6\n        ],\n        \"semantic_type\": \"\",\n        \"description\": \"\"\n      }\n    },\n    {\n      \"column\": \"num_wows\",\n      \"properties\": {\n        \"dtype\": \"number\",\n        \"std\": 8,\n        \"min\": 0,\n        \"max\": 278,\n        \"num_unique_values\": 65,\n        \"samples\": [\n          33,\n          49,\n          3\n        ],\n        \"semantic_type\": \"\",\n        \"description\": \"\"\n      }\n    },\n    {\n      \"column\": \"num_hahas\",\n      \"properties\": {\n        \"dtype\": \"number\",\n        \"std\": 3,\n        \"min\": 0,\n        \"max\": 157,\n        \"num_unique_values\": 42,\n        \"samples\": [\n          50,\n          9,\n          7\n        ],\n        \"semantic_type\": \"\",\n        \"description\": \"\"\n      }\n    },\n    {\n      \"column\": \"num_sads\",\n      \"properties\": {\n        \"dtype\": \"number\",\n        \"std\": 1,\n        \"min\": 0,\n        \"max\": 51,\n        \"num_unique_values\": 24,\n        \"samples\": [\n          4,\n          51,\n          1\n        ],\n        \"semantic_type\": \"\",\n        \"description\": \"\"\n      }\n    },\n    {\n      \"column\": \"num_angrys\",\n      \"properties\": {\n        \"dtype\": \"number\",\n        \"std\": 0,\n        \"min\": 0,\n        \"max\": 31,\n        \"num_unique_values\": 14,\n        \"samples\": [\n          8,\n          19,\n          0\n        ],\n        \"semantic_type\": \"\",\n        \"description\": \"\"\n      }\n    }\n  ]\n}"
            }
          },
          "metadata": {},
          "execution_count": 3
        }
      ]
    },
    {
      "cell_type": "code",
      "source": [
        "#checking if there are null values\n",
        "dataset.isnull().sum()"
      ],
      "metadata": {
        "colab": {
          "base_uri": "https://localhost:8080/",
          "height": 429
        },
        "collapsed": true,
        "id": "k3jzxxRcHwHX",
        "outputId": "612cabb6-a7fc-416b-b131-629ce1e7ac74"
      },
      "execution_count": null,
      "outputs": [
        {
          "output_type": "execute_result",
          "data": {
            "text/plain": [
              "status_type         0\n",
              "status_published    0\n",
              "num_reactions       0\n",
              "num_comments        0\n",
              "num_shares          0\n",
              "num_likes           0\n",
              "num_loves           0\n",
              "num_wows            0\n",
              "num_hahas           0\n",
              "num_sads            0\n",
              "num_angrys          0\n",
              "dtype: int64"
            ],
            "text/html": [
              "<div>\n",
              "<style scoped>\n",
              "    .dataframe tbody tr th:only-of-type {\n",
              "        vertical-align: middle;\n",
              "    }\n",
              "\n",
              "    .dataframe tbody tr th {\n",
              "        vertical-align: top;\n",
              "    }\n",
              "\n",
              "    .dataframe thead th {\n",
              "        text-align: right;\n",
              "    }\n",
              "</style>\n",
              "<table border=\"1\" class=\"dataframe\">\n",
              "  <thead>\n",
              "    <tr style=\"text-align: right;\">\n",
              "      <th></th>\n",
              "      <th>0</th>\n",
              "    </tr>\n",
              "  </thead>\n",
              "  <tbody>\n",
              "    <tr>\n",
              "      <th>status_type</th>\n",
              "      <td>0</td>\n",
              "    </tr>\n",
              "    <tr>\n",
              "      <th>status_published</th>\n",
              "      <td>0</td>\n",
              "    </tr>\n",
              "    <tr>\n",
              "      <th>num_reactions</th>\n",
              "      <td>0</td>\n",
              "    </tr>\n",
              "    <tr>\n",
              "      <th>num_comments</th>\n",
              "      <td>0</td>\n",
              "    </tr>\n",
              "    <tr>\n",
              "      <th>num_shares</th>\n",
              "      <td>0</td>\n",
              "    </tr>\n",
              "    <tr>\n",
              "      <th>num_likes</th>\n",
              "      <td>0</td>\n",
              "    </tr>\n",
              "    <tr>\n",
              "      <th>num_loves</th>\n",
              "      <td>0</td>\n",
              "    </tr>\n",
              "    <tr>\n",
              "      <th>num_wows</th>\n",
              "      <td>0</td>\n",
              "    </tr>\n",
              "    <tr>\n",
              "      <th>num_hahas</th>\n",
              "      <td>0</td>\n",
              "    </tr>\n",
              "    <tr>\n",
              "      <th>num_sads</th>\n",
              "      <td>0</td>\n",
              "    </tr>\n",
              "    <tr>\n",
              "      <th>num_angrys</th>\n",
              "      <td>0</td>\n",
              "    </tr>\n",
              "  </tbody>\n",
              "</table>\n",
              "</div><br><label><b>dtype:</b> int64</label>"
            ]
          },
          "metadata": {},
          "execution_count": 4
        }
      ]
    },
    {
      "cell_type": "code",
      "source": [
        "#separating the status_published column into three, i.e., date,time, and hour for easier analysis\n",
        "dataset['date'] = pd.to_datetime(dataset['status_published']).dt.date\n",
        "dataset['time'] = pd.to_datetime(dataset['status_published']).dt.time\n",
        "dataset['hour'] = pd.to_datetime(dataset['status_published']).dt.hour\n",
        "dataset.drop('status_published', axis = 1, inplace = True)\n"
      ],
      "metadata": {
        "id": "c_kBAZOjOh70"
      },
      "execution_count": null,
      "outputs": []
    },
    {
      "cell_type": "code",
      "source": [
        "dataset.head()"
      ],
      "metadata": {
        "colab": {
          "base_uri": "https://localhost:8080/",
          "height": 206
        },
        "id": "EzFW04WQO__3",
        "outputId": "f7cca8c6-3ca4-44ca-fca6-4a3e8888c5c0"
      },
      "execution_count": null,
      "outputs": [
        {
          "output_type": "execute_result",
          "data": {
            "text/plain": [
              "  status_type  num_reactions  num_comments  num_shares  num_likes  num_loves  \\\n",
              "0       video            529           512         262        432         92   \n",
              "1       photo            150             0           0        150          0   \n",
              "2       video            227           236          57        204         21   \n",
              "3       photo            111             0           0        111          0   \n",
              "4       photo            213             0           0        204          9   \n",
              "\n",
              "   num_wows  num_hahas  num_sads  num_angrys        date      time  hour  \n",
              "0         3          1         1           0  2018-04-22  06:00:00     6  \n",
              "1         0          0         0           0  2018-04-21  22:45:00    22  \n",
              "2         1          1         0           0  2018-04-21  06:17:00     6  \n",
              "3         0          0         0           0  2018-04-21  02:29:00     2  \n",
              "4         0          0         0           0  2018-04-18  03:22:00     3  "
            ],
            "text/html": [
              "\n",
              "  <div id=\"df-eabaa2f1-70a6-4582-8c1b-7edba62de5be\" class=\"colab-df-container\">\n",
              "    <div>\n",
              "<style scoped>\n",
              "    .dataframe tbody tr th:only-of-type {\n",
              "        vertical-align: middle;\n",
              "    }\n",
              "\n",
              "    .dataframe tbody tr th {\n",
              "        vertical-align: top;\n",
              "    }\n",
              "\n",
              "    .dataframe thead th {\n",
              "        text-align: right;\n",
              "    }\n",
              "</style>\n",
              "<table border=\"1\" class=\"dataframe\">\n",
              "  <thead>\n",
              "    <tr style=\"text-align: right;\">\n",
              "      <th></th>\n",
              "      <th>status_type</th>\n",
              "      <th>num_reactions</th>\n",
              "      <th>num_comments</th>\n",
              "      <th>num_shares</th>\n",
              "      <th>num_likes</th>\n",
              "      <th>num_loves</th>\n",
              "      <th>num_wows</th>\n",
              "      <th>num_hahas</th>\n",
              "      <th>num_sads</th>\n",
              "      <th>num_angrys</th>\n",
              "      <th>date</th>\n",
              "      <th>time</th>\n",
              "      <th>hour</th>\n",
              "    </tr>\n",
              "  </thead>\n",
              "  <tbody>\n",
              "    <tr>\n",
              "      <th>0</th>\n",
              "      <td>video</td>\n",
              "      <td>529</td>\n",
              "      <td>512</td>\n",
              "      <td>262</td>\n",
              "      <td>432</td>\n",
              "      <td>92</td>\n",
              "      <td>3</td>\n",
              "      <td>1</td>\n",
              "      <td>1</td>\n",
              "      <td>0</td>\n",
              "      <td>2018-04-22</td>\n",
              "      <td>06:00:00</td>\n",
              "      <td>6</td>\n",
              "    </tr>\n",
              "    <tr>\n",
              "      <th>1</th>\n",
              "      <td>photo</td>\n",
              "      <td>150</td>\n",
              "      <td>0</td>\n",
              "      <td>0</td>\n",
              "      <td>150</td>\n",
              "      <td>0</td>\n",
              "      <td>0</td>\n",
              "      <td>0</td>\n",
              "      <td>0</td>\n",
              "      <td>0</td>\n",
              "      <td>2018-04-21</td>\n",
              "      <td>22:45:00</td>\n",
              "      <td>22</td>\n",
              "    </tr>\n",
              "    <tr>\n",
              "      <th>2</th>\n",
              "      <td>video</td>\n",
              "      <td>227</td>\n",
              "      <td>236</td>\n",
              "      <td>57</td>\n",
              "      <td>204</td>\n",
              "      <td>21</td>\n",
              "      <td>1</td>\n",
              "      <td>1</td>\n",
              "      <td>0</td>\n",
              "      <td>0</td>\n",
              "      <td>2018-04-21</td>\n",
              "      <td>06:17:00</td>\n",
              "      <td>6</td>\n",
              "    </tr>\n",
              "    <tr>\n",
              "      <th>3</th>\n",
              "      <td>photo</td>\n",
              "      <td>111</td>\n",
              "      <td>0</td>\n",
              "      <td>0</td>\n",
              "      <td>111</td>\n",
              "      <td>0</td>\n",
              "      <td>0</td>\n",
              "      <td>0</td>\n",
              "      <td>0</td>\n",
              "      <td>0</td>\n",
              "      <td>2018-04-21</td>\n",
              "      <td>02:29:00</td>\n",
              "      <td>2</td>\n",
              "    </tr>\n",
              "    <tr>\n",
              "      <th>4</th>\n",
              "      <td>photo</td>\n",
              "      <td>213</td>\n",
              "      <td>0</td>\n",
              "      <td>0</td>\n",
              "      <td>204</td>\n",
              "      <td>9</td>\n",
              "      <td>0</td>\n",
              "      <td>0</td>\n",
              "      <td>0</td>\n",
              "      <td>0</td>\n",
              "      <td>2018-04-18</td>\n",
              "      <td>03:22:00</td>\n",
              "      <td>3</td>\n",
              "    </tr>\n",
              "  </tbody>\n",
              "</table>\n",
              "</div>\n",
              "    <div class=\"colab-df-buttons\">\n",
              "\n",
              "  <div class=\"colab-df-container\">\n",
              "    <button class=\"colab-df-convert\" onclick=\"convertToInteractive('df-eabaa2f1-70a6-4582-8c1b-7edba62de5be')\"\n",
              "            title=\"Convert this dataframe to an interactive table.\"\n",
              "            style=\"display:none;\">\n",
              "\n",
              "  <svg xmlns=\"http://www.w3.org/2000/svg\" height=\"24px\" viewBox=\"0 -960 960 960\">\n",
              "    <path d=\"M120-120v-720h720v720H120Zm60-500h600v-160H180v160Zm220 220h160v-160H400v160Zm0 220h160v-160H400v160ZM180-400h160v-160H180v160Zm440 0h160v-160H620v160ZM180-180h160v-160H180v160Zm440 0h160v-160H620v160Z\"/>\n",
              "  </svg>\n",
              "    </button>\n",
              "\n",
              "  <style>\n",
              "    .colab-df-container {\n",
              "      display:flex;\n",
              "      gap: 12px;\n",
              "    }\n",
              "\n",
              "    .colab-df-convert {\n",
              "      background-color: #E8F0FE;\n",
              "      border: none;\n",
              "      border-radius: 50%;\n",
              "      cursor: pointer;\n",
              "      display: none;\n",
              "      fill: #1967D2;\n",
              "      height: 32px;\n",
              "      padding: 0 0 0 0;\n",
              "      width: 32px;\n",
              "    }\n",
              "\n",
              "    .colab-df-convert:hover {\n",
              "      background-color: #E2EBFA;\n",
              "      box-shadow: 0px 1px 2px rgba(60, 64, 67, 0.3), 0px 1px 3px 1px rgba(60, 64, 67, 0.15);\n",
              "      fill: #174EA6;\n",
              "    }\n",
              "\n",
              "    .colab-df-buttons div {\n",
              "      margin-bottom: 4px;\n",
              "    }\n",
              "\n",
              "    [theme=dark] .colab-df-convert {\n",
              "      background-color: #3B4455;\n",
              "      fill: #D2E3FC;\n",
              "    }\n",
              "\n",
              "    [theme=dark] .colab-df-convert:hover {\n",
              "      background-color: #434B5C;\n",
              "      box-shadow: 0px 1px 3px 1px rgba(0, 0, 0, 0.15);\n",
              "      filter: drop-shadow(0px 1px 2px rgba(0, 0, 0, 0.3));\n",
              "      fill: #FFFFFF;\n",
              "    }\n",
              "  </style>\n",
              "\n",
              "    <script>\n",
              "      const buttonEl =\n",
              "        document.querySelector('#df-eabaa2f1-70a6-4582-8c1b-7edba62de5be button.colab-df-convert');\n",
              "      buttonEl.style.display =\n",
              "        google.colab.kernel.accessAllowed ? 'block' : 'none';\n",
              "\n",
              "      async function convertToInteractive(key) {\n",
              "        const element = document.querySelector('#df-eabaa2f1-70a6-4582-8c1b-7edba62de5be');\n",
              "        const dataTable =\n",
              "          await google.colab.kernel.invokeFunction('convertToInteractive',\n",
              "                                                    [key], {});\n",
              "        if (!dataTable) return;\n",
              "\n",
              "        const docLinkHtml = 'Like what you see? Visit the ' +\n",
              "          '<a target=\"_blank\" href=https://colab.research.google.com/notebooks/data_table.ipynb>data table notebook</a>'\n",
              "          + ' to learn more about interactive tables.';\n",
              "        element.innerHTML = '';\n",
              "        dataTable['output_type'] = 'display_data';\n",
              "        await google.colab.output.renderOutput(dataTable, element);\n",
              "        const docLink = document.createElement('div');\n",
              "        docLink.innerHTML = docLinkHtml;\n",
              "        element.appendChild(docLink);\n",
              "      }\n",
              "    </script>\n",
              "  </div>\n",
              "\n",
              "\n",
              "<div id=\"df-6a493bb2-710e-426c-9a6f-6101c10aaec6\">\n",
              "  <button class=\"colab-df-quickchart\" onclick=\"quickchart('df-6a493bb2-710e-426c-9a6f-6101c10aaec6')\"\n",
              "            title=\"Suggest charts\"\n",
              "            style=\"display:none;\">\n",
              "\n",
              "<svg xmlns=\"http://www.w3.org/2000/svg\" height=\"24px\"viewBox=\"0 0 24 24\"\n",
              "     width=\"24px\">\n",
              "    <g>\n",
              "        <path d=\"M19 3H5c-1.1 0-2 .9-2 2v14c0 1.1.9 2 2 2h14c1.1 0 2-.9 2-2V5c0-1.1-.9-2-2-2zM9 17H7v-7h2v7zm4 0h-2V7h2v10zm4 0h-2v-4h2v4z\"/>\n",
              "    </g>\n",
              "</svg>\n",
              "  </button>\n",
              "\n",
              "<style>\n",
              "  .colab-df-quickchart {\n",
              "      --bg-color: #E8F0FE;\n",
              "      --fill-color: #1967D2;\n",
              "      --hover-bg-color: #E2EBFA;\n",
              "      --hover-fill-color: #174EA6;\n",
              "      --disabled-fill-color: #AAA;\n",
              "      --disabled-bg-color: #DDD;\n",
              "  }\n",
              "\n",
              "  [theme=dark] .colab-df-quickchart {\n",
              "      --bg-color: #3B4455;\n",
              "      --fill-color: #D2E3FC;\n",
              "      --hover-bg-color: #434B5C;\n",
              "      --hover-fill-color: #FFFFFF;\n",
              "      --disabled-bg-color: #3B4455;\n",
              "      --disabled-fill-color: #666;\n",
              "  }\n",
              "\n",
              "  .colab-df-quickchart {\n",
              "    background-color: var(--bg-color);\n",
              "    border: none;\n",
              "    border-radius: 50%;\n",
              "    cursor: pointer;\n",
              "    display: none;\n",
              "    fill: var(--fill-color);\n",
              "    height: 32px;\n",
              "    padding: 0;\n",
              "    width: 32px;\n",
              "  }\n",
              "\n",
              "  .colab-df-quickchart:hover {\n",
              "    background-color: var(--hover-bg-color);\n",
              "    box-shadow: 0 1px 2px rgba(60, 64, 67, 0.3), 0 1px 3px 1px rgba(60, 64, 67, 0.15);\n",
              "    fill: var(--button-hover-fill-color);\n",
              "  }\n",
              "\n",
              "  .colab-df-quickchart-complete:disabled,\n",
              "  .colab-df-quickchart-complete:disabled:hover {\n",
              "    background-color: var(--disabled-bg-color);\n",
              "    fill: var(--disabled-fill-color);\n",
              "    box-shadow: none;\n",
              "  }\n",
              "\n",
              "  .colab-df-spinner {\n",
              "    border: 2px solid var(--fill-color);\n",
              "    border-color: transparent;\n",
              "    border-bottom-color: var(--fill-color);\n",
              "    animation:\n",
              "      spin 1s steps(1) infinite;\n",
              "  }\n",
              "\n",
              "  @keyframes spin {\n",
              "    0% {\n",
              "      border-color: transparent;\n",
              "      border-bottom-color: var(--fill-color);\n",
              "      border-left-color: var(--fill-color);\n",
              "    }\n",
              "    20% {\n",
              "      border-color: transparent;\n",
              "      border-left-color: var(--fill-color);\n",
              "      border-top-color: var(--fill-color);\n",
              "    }\n",
              "    30% {\n",
              "      border-color: transparent;\n",
              "      border-left-color: var(--fill-color);\n",
              "      border-top-color: var(--fill-color);\n",
              "      border-right-color: var(--fill-color);\n",
              "    }\n",
              "    40% {\n",
              "      border-color: transparent;\n",
              "      border-right-color: var(--fill-color);\n",
              "      border-top-color: var(--fill-color);\n",
              "    }\n",
              "    60% {\n",
              "      border-color: transparent;\n",
              "      border-right-color: var(--fill-color);\n",
              "    }\n",
              "    80% {\n",
              "      border-color: transparent;\n",
              "      border-right-color: var(--fill-color);\n",
              "      border-bottom-color: var(--fill-color);\n",
              "    }\n",
              "    90% {\n",
              "      border-color: transparent;\n",
              "      border-bottom-color: var(--fill-color);\n",
              "    }\n",
              "  }\n",
              "</style>\n",
              "\n",
              "  <script>\n",
              "    async function quickchart(key) {\n",
              "      const quickchartButtonEl =\n",
              "        document.querySelector('#' + key + ' button');\n",
              "      quickchartButtonEl.disabled = true;  // To prevent multiple clicks.\n",
              "      quickchartButtonEl.classList.add('colab-df-spinner');\n",
              "      try {\n",
              "        const charts = await google.colab.kernel.invokeFunction(\n",
              "            'suggestCharts', [key], {});\n",
              "      } catch (error) {\n",
              "        console.error('Error during call to suggestCharts:', error);\n",
              "      }\n",
              "      quickchartButtonEl.classList.remove('colab-df-spinner');\n",
              "      quickchartButtonEl.classList.add('colab-df-quickchart-complete');\n",
              "    }\n",
              "    (() => {\n",
              "      let quickchartButtonEl =\n",
              "        document.querySelector('#df-6a493bb2-710e-426c-9a6f-6101c10aaec6 button');\n",
              "      quickchartButtonEl.style.display =\n",
              "        google.colab.kernel.accessAllowed ? 'block' : 'none';\n",
              "    })();\n",
              "  </script>\n",
              "</div>\n",
              "\n",
              "    </div>\n",
              "  </div>\n"
            ],
            "application/vnd.google.colaboratory.intrinsic+json": {
              "type": "dataframe",
              "variable_name": "dataset",
              "summary": "{\n  \"name\": \"dataset\",\n  \"rows\": 7050,\n  \"fields\": [\n    {\n      \"column\": \"status_type\",\n      \"properties\": {\n        \"dtype\": \"category\",\n        \"num_unique_values\": 4,\n        \"samples\": [\n          \"photo\",\n          \"status\",\n          \"video\"\n        ],\n        \"semantic_type\": \"\",\n        \"description\": \"\"\n      }\n    },\n    {\n      \"column\": \"num_reactions\",\n      \"properties\": {\n        \"dtype\": \"number\",\n        \"std\": 462,\n        \"min\": 0,\n        \"max\": 4710,\n        \"num_unique_values\": 1067,\n        \"samples\": [\n          406,\n          1864,\n          317\n        ],\n        \"semantic_type\": \"\",\n        \"description\": \"\"\n      }\n    },\n    {\n      \"column\": \"num_comments\",\n      \"properties\": {\n        \"dtype\": \"number\",\n        \"std\": 889,\n        \"min\": 0,\n        \"max\": 20990,\n        \"num_unique_values\": 993,\n        \"samples\": [\n          3287,\n          311,\n          543\n        ],\n        \"semantic_type\": \"\",\n        \"description\": \"\"\n      }\n    },\n    {\n      \"column\": \"num_shares\",\n      \"properties\": {\n        \"dtype\": \"number\",\n        \"std\": 131,\n        \"min\": 0,\n        \"max\": 3424,\n        \"num_unique_values\": 501,\n        \"samples\": [\n          234,\n          78,\n          298\n        ],\n        \"semantic_type\": \"\",\n        \"description\": \"\"\n      }\n    },\n    {\n      \"column\": \"num_likes\",\n      \"properties\": {\n        \"dtype\": \"number\",\n        \"std\": 449,\n        \"min\": 0,\n        \"max\": 4710,\n        \"num_unique_values\": 1044,\n        \"samples\": [\n          844,\n          876,\n          2399\n        ],\n        \"semantic_type\": \"\",\n        \"description\": \"\"\n      }\n    },\n    {\n      \"column\": \"num_loves\",\n      \"properties\": {\n        \"dtype\": \"number\",\n        \"std\": 39,\n        \"min\": 0,\n        \"max\": 657,\n        \"num_unique_values\": 229,\n        \"samples\": [\n          101,\n          136,\n          6\n        ],\n        \"semantic_type\": \"\",\n        \"description\": \"\"\n      }\n    },\n    {\n      \"column\": \"num_wows\",\n      \"properties\": {\n        \"dtype\": \"number\",\n        \"std\": 8,\n        \"min\": 0,\n        \"max\": 278,\n        \"num_unique_values\": 65,\n        \"samples\": [\n          33,\n          49,\n          3\n        ],\n        \"semantic_type\": \"\",\n        \"description\": \"\"\n      }\n    },\n    {\n      \"column\": \"num_hahas\",\n      \"properties\": {\n        \"dtype\": \"number\",\n        \"std\": 3,\n        \"min\": 0,\n        \"max\": 157,\n        \"num_unique_values\": 42,\n        \"samples\": [\n          50,\n          9,\n          7\n        ],\n        \"semantic_type\": \"\",\n        \"description\": \"\"\n      }\n    },\n    {\n      \"column\": \"num_sads\",\n      \"properties\": {\n        \"dtype\": \"number\",\n        \"std\": 1,\n        \"min\": 0,\n        \"max\": 51,\n        \"num_unique_values\": 24,\n        \"samples\": [\n          4,\n          51,\n          1\n        ],\n        \"semantic_type\": \"\",\n        \"description\": \"\"\n      }\n    },\n    {\n      \"column\": \"num_angrys\",\n      \"properties\": {\n        \"dtype\": \"number\",\n        \"std\": 0,\n        \"min\": 0,\n        \"max\": 31,\n        \"num_unique_values\": 14,\n        \"samples\": [\n          8,\n          19,\n          0\n        ],\n        \"semantic_type\": \"\",\n        \"description\": \"\"\n      }\n    },\n    {\n      \"column\": \"date\",\n      \"properties\": {\n        \"dtype\": \"date\",\n        \"min\": \"2012-07-15\",\n        \"max\": \"2018-06-13\",\n        \"num_unique_values\": 1352,\n        \"samples\": [\n          \"2018-01-21\",\n          \"2015-03-01\",\n          \"2012-10-19\"\n        ],\n        \"semantic_type\": \"\",\n        \"description\": \"\"\n      }\n    },\n    {\n      \"column\": \"time\",\n      \"properties\": {\n        \"dtype\": \"category\",\n        \"num_unique_values\": 1050,\n        \"samples\": [\n          \"00:10:00\",\n          \"12:04:00\",\n          \"02:47:00\"\n        ],\n        \"semantic_type\": \"\",\n        \"description\": \"\"\n      }\n    },\n    {\n      \"column\": \"hour\",\n      \"properties\": {\n        \"dtype\": \"int32\",\n        \"num_unique_values\": 24,\n        \"samples\": [\n          5,\n          11,\n          6\n        ],\n        \"semantic_type\": \"\",\n        \"description\": \"\"\n      }\n    }\n  ]\n}"
            }
          },
          "metadata": {},
          "execution_count": 6
        }
      ]
    },
    {
      "cell_type": "code",
      "source": [
        "dataset.dtypes"
      ],
      "metadata": {
        "colab": {
          "base_uri": "https://localhost:8080/",
          "height": 492
        },
        "collapsed": true,
        "id": "tZGfFkkVnrwB",
        "outputId": "cdd16b43-4766-44f5-e865-c7a5727b8066"
      },
      "execution_count": null,
      "outputs": [
        {
          "output_type": "execute_result",
          "data": {
            "text/plain": [
              "status_type      object\n",
              "num_reactions     int64\n",
              "num_comments      int64\n",
              "num_shares        int64\n",
              "num_likes         int64\n",
              "num_loves         int64\n",
              "num_wows          int64\n",
              "num_hahas         int64\n",
              "num_sads          int64\n",
              "num_angrys        int64\n",
              "date             object\n",
              "time             object\n",
              "hour              int32\n",
              "dtype: object"
            ],
            "text/html": [
              "<div>\n",
              "<style scoped>\n",
              "    .dataframe tbody tr th:only-of-type {\n",
              "        vertical-align: middle;\n",
              "    }\n",
              "\n",
              "    .dataframe tbody tr th {\n",
              "        vertical-align: top;\n",
              "    }\n",
              "\n",
              "    .dataframe thead th {\n",
              "        text-align: right;\n",
              "    }\n",
              "</style>\n",
              "<table border=\"1\" class=\"dataframe\">\n",
              "  <thead>\n",
              "    <tr style=\"text-align: right;\">\n",
              "      <th></th>\n",
              "      <th>0</th>\n",
              "    </tr>\n",
              "  </thead>\n",
              "  <tbody>\n",
              "    <tr>\n",
              "      <th>status_type</th>\n",
              "      <td>object</td>\n",
              "    </tr>\n",
              "    <tr>\n",
              "      <th>num_reactions</th>\n",
              "      <td>int64</td>\n",
              "    </tr>\n",
              "    <tr>\n",
              "      <th>num_comments</th>\n",
              "      <td>int64</td>\n",
              "    </tr>\n",
              "    <tr>\n",
              "      <th>num_shares</th>\n",
              "      <td>int64</td>\n",
              "    </tr>\n",
              "    <tr>\n",
              "      <th>num_likes</th>\n",
              "      <td>int64</td>\n",
              "    </tr>\n",
              "    <tr>\n",
              "      <th>num_loves</th>\n",
              "      <td>int64</td>\n",
              "    </tr>\n",
              "    <tr>\n",
              "      <th>num_wows</th>\n",
              "      <td>int64</td>\n",
              "    </tr>\n",
              "    <tr>\n",
              "      <th>num_hahas</th>\n",
              "      <td>int64</td>\n",
              "    </tr>\n",
              "    <tr>\n",
              "      <th>num_sads</th>\n",
              "      <td>int64</td>\n",
              "    </tr>\n",
              "    <tr>\n",
              "      <th>num_angrys</th>\n",
              "      <td>int64</td>\n",
              "    </tr>\n",
              "    <tr>\n",
              "      <th>date</th>\n",
              "      <td>object</td>\n",
              "    </tr>\n",
              "    <tr>\n",
              "      <th>time</th>\n",
              "      <td>object</td>\n",
              "    </tr>\n",
              "    <tr>\n",
              "      <th>hour</th>\n",
              "      <td>int32</td>\n",
              "    </tr>\n",
              "  </tbody>\n",
              "</table>\n",
              "</div><br><label><b>dtype:</b> object</label>"
            ]
          },
          "metadata": {},
          "execution_count": 7
        }
      ]
    },
    {
      "cell_type": "markdown",
      "source": [
        "#1. Analysing the relation between the time of Posting and the number of Reactions"
      ],
      "metadata": {
        "id": "xscwO2Bol90J"
      }
    },
    {
      "cell_type": "code",
      "source": [
        "#selecting only the time and num_reactions\n",
        "X = dataset.iloc[:, [-2, -1, 1]]"
      ],
      "metadata": {
        "id": "Xr_mj4TMXZY7"
      },
      "execution_count": null,
      "outputs": []
    },
    {
      "cell_type": "code",
      "source": [
        "X.head()"
      ],
      "metadata": {
        "colab": {
          "base_uri": "https://localhost:8080/",
          "height": 206
        },
        "id": "neTzdW54YY8u",
        "outputId": "2f8803b4-71f5-4b9b-dbd5-71a825beddf7"
      },
      "execution_count": null,
      "outputs": [
        {
          "output_type": "execute_result",
          "data": {
            "text/plain": [
              "       time  hour  num_reactions\n",
              "0  06:00:00     6            529\n",
              "1  22:45:00    22            150\n",
              "2  06:17:00     6            227\n",
              "3  02:29:00     2            111\n",
              "4  03:22:00     3            213"
            ],
            "text/html": [
              "\n",
              "  <div id=\"df-5891b30a-376a-4091-82d2-7020f2356de7\" class=\"colab-df-container\">\n",
              "    <div>\n",
              "<style scoped>\n",
              "    .dataframe tbody tr th:only-of-type {\n",
              "        vertical-align: middle;\n",
              "    }\n",
              "\n",
              "    .dataframe tbody tr th {\n",
              "        vertical-align: top;\n",
              "    }\n",
              "\n",
              "    .dataframe thead th {\n",
              "        text-align: right;\n",
              "    }\n",
              "</style>\n",
              "<table border=\"1\" class=\"dataframe\">\n",
              "  <thead>\n",
              "    <tr style=\"text-align: right;\">\n",
              "      <th></th>\n",
              "      <th>time</th>\n",
              "      <th>hour</th>\n",
              "      <th>num_reactions</th>\n",
              "    </tr>\n",
              "  </thead>\n",
              "  <tbody>\n",
              "    <tr>\n",
              "      <th>0</th>\n",
              "      <td>06:00:00</td>\n",
              "      <td>6</td>\n",
              "      <td>529</td>\n",
              "    </tr>\n",
              "    <tr>\n",
              "      <th>1</th>\n",
              "      <td>22:45:00</td>\n",
              "      <td>22</td>\n",
              "      <td>150</td>\n",
              "    </tr>\n",
              "    <tr>\n",
              "      <th>2</th>\n",
              "      <td>06:17:00</td>\n",
              "      <td>6</td>\n",
              "      <td>227</td>\n",
              "    </tr>\n",
              "    <tr>\n",
              "      <th>3</th>\n",
              "      <td>02:29:00</td>\n",
              "      <td>2</td>\n",
              "      <td>111</td>\n",
              "    </tr>\n",
              "    <tr>\n",
              "      <th>4</th>\n",
              "      <td>03:22:00</td>\n",
              "      <td>3</td>\n",
              "      <td>213</td>\n",
              "    </tr>\n",
              "  </tbody>\n",
              "</table>\n",
              "</div>\n",
              "    <div class=\"colab-df-buttons\">\n",
              "\n",
              "  <div class=\"colab-df-container\">\n",
              "    <button class=\"colab-df-convert\" onclick=\"convertToInteractive('df-5891b30a-376a-4091-82d2-7020f2356de7')\"\n",
              "            title=\"Convert this dataframe to an interactive table.\"\n",
              "            style=\"display:none;\">\n",
              "\n",
              "  <svg xmlns=\"http://www.w3.org/2000/svg\" height=\"24px\" viewBox=\"0 -960 960 960\">\n",
              "    <path d=\"M120-120v-720h720v720H120Zm60-500h600v-160H180v160Zm220 220h160v-160H400v160Zm0 220h160v-160H400v160ZM180-400h160v-160H180v160Zm440 0h160v-160H620v160ZM180-180h160v-160H180v160Zm440 0h160v-160H620v160Z\"/>\n",
              "  </svg>\n",
              "    </button>\n",
              "\n",
              "  <style>\n",
              "    .colab-df-container {\n",
              "      display:flex;\n",
              "      gap: 12px;\n",
              "    }\n",
              "\n",
              "    .colab-df-convert {\n",
              "      background-color: #E8F0FE;\n",
              "      border: none;\n",
              "      border-radius: 50%;\n",
              "      cursor: pointer;\n",
              "      display: none;\n",
              "      fill: #1967D2;\n",
              "      height: 32px;\n",
              "      padding: 0 0 0 0;\n",
              "      width: 32px;\n",
              "    }\n",
              "\n",
              "    .colab-df-convert:hover {\n",
              "      background-color: #E2EBFA;\n",
              "      box-shadow: 0px 1px 2px rgba(60, 64, 67, 0.3), 0px 1px 3px 1px rgba(60, 64, 67, 0.15);\n",
              "      fill: #174EA6;\n",
              "    }\n",
              "\n",
              "    .colab-df-buttons div {\n",
              "      margin-bottom: 4px;\n",
              "    }\n",
              "\n",
              "    [theme=dark] .colab-df-convert {\n",
              "      background-color: #3B4455;\n",
              "      fill: #D2E3FC;\n",
              "    }\n",
              "\n",
              "    [theme=dark] .colab-df-convert:hover {\n",
              "      background-color: #434B5C;\n",
              "      box-shadow: 0px 1px 3px 1px rgba(0, 0, 0, 0.15);\n",
              "      filter: drop-shadow(0px 1px 2px rgba(0, 0, 0, 0.3));\n",
              "      fill: #FFFFFF;\n",
              "    }\n",
              "  </style>\n",
              "\n",
              "    <script>\n",
              "      const buttonEl =\n",
              "        document.querySelector('#df-5891b30a-376a-4091-82d2-7020f2356de7 button.colab-df-convert');\n",
              "      buttonEl.style.display =\n",
              "        google.colab.kernel.accessAllowed ? 'block' : 'none';\n",
              "\n",
              "      async function convertToInteractive(key) {\n",
              "        const element = document.querySelector('#df-5891b30a-376a-4091-82d2-7020f2356de7');\n",
              "        const dataTable =\n",
              "          await google.colab.kernel.invokeFunction('convertToInteractive',\n",
              "                                                    [key], {});\n",
              "        if (!dataTable) return;\n",
              "\n",
              "        const docLinkHtml = 'Like what you see? Visit the ' +\n",
              "          '<a target=\"_blank\" href=https://colab.research.google.com/notebooks/data_table.ipynb>data table notebook</a>'\n",
              "          + ' to learn more about interactive tables.';\n",
              "        element.innerHTML = '';\n",
              "        dataTable['output_type'] = 'display_data';\n",
              "        await google.colab.output.renderOutput(dataTable, element);\n",
              "        const docLink = document.createElement('div');\n",
              "        docLink.innerHTML = docLinkHtml;\n",
              "        element.appendChild(docLink);\n",
              "      }\n",
              "    </script>\n",
              "  </div>\n",
              "\n",
              "\n",
              "<div id=\"df-133f4e16-f5fc-4f80-b073-96445c27fc1f\">\n",
              "  <button class=\"colab-df-quickchart\" onclick=\"quickchart('df-133f4e16-f5fc-4f80-b073-96445c27fc1f')\"\n",
              "            title=\"Suggest charts\"\n",
              "            style=\"display:none;\">\n",
              "\n",
              "<svg xmlns=\"http://www.w3.org/2000/svg\" height=\"24px\"viewBox=\"0 0 24 24\"\n",
              "     width=\"24px\">\n",
              "    <g>\n",
              "        <path d=\"M19 3H5c-1.1 0-2 .9-2 2v14c0 1.1.9 2 2 2h14c1.1 0 2-.9 2-2V5c0-1.1-.9-2-2-2zM9 17H7v-7h2v7zm4 0h-2V7h2v10zm4 0h-2v-4h2v4z\"/>\n",
              "    </g>\n",
              "</svg>\n",
              "  </button>\n",
              "\n",
              "<style>\n",
              "  .colab-df-quickchart {\n",
              "      --bg-color: #E8F0FE;\n",
              "      --fill-color: #1967D2;\n",
              "      --hover-bg-color: #E2EBFA;\n",
              "      --hover-fill-color: #174EA6;\n",
              "      --disabled-fill-color: #AAA;\n",
              "      --disabled-bg-color: #DDD;\n",
              "  }\n",
              "\n",
              "  [theme=dark] .colab-df-quickchart {\n",
              "      --bg-color: #3B4455;\n",
              "      --fill-color: #D2E3FC;\n",
              "      --hover-bg-color: #434B5C;\n",
              "      --hover-fill-color: #FFFFFF;\n",
              "      --disabled-bg-color: #3B4455;\n",
              "      --disabled-fill-color: #666;\n",
              "  }\n",
              "\n",
              "  .colab-df-quickchart {\n",
              "    background-color: var(--bg-color);\n",
              "    border: none;\n",
              "    border-radius: 50%;\n",
              "    cursor: pointer;\n",
              "    display: none;\n",
              "    fill: var(--fill-color);\n",
              "    height: 32px;\n",
              "    padding: 0;\n",
              "    width: 32px;\n",
              "  }\n",
              "\n",
              "  .colab-df-quickchart:hover {\n",
              "    background-color: var(--hover-bg-color);\n",
              "    box-shadow: 0 1px 2px rgba(60, 64, 67, 0.3), 0 1px 3px 1px rgba(60, 64, 67, 0.15);\n",
              "    fill: var(--button-hover-fill-color);\n",
              "  }\n",
              "\n",
              "  .colab-df-quickchart-complete:disabled,\n",
              "  .colab-df-quickchart-complete:disabled:hover {\n",
              "    background-color: var(--disabled-bg-color);\n",
              "    fill: var(--disabled-fill-color);\n",
              "    box-shadow: none;\n",
              "  }\n",
              "\n",
              "  .colab-df-spinner {\n",
              "    border: 2px solid var(--fill-color);\n",
              "    border-color: transparent;\n",
              "    border-bottom-color: var(--fill-color);\n",
              "    animation:\n",
              "      spin 1s steps(1) infinite;\n",
              "  }\n",
              "\n",
              "  @keyframes spin {\n",
              "    0% {\n",
              "      border-color: transparent;\n",
              "      border-bottom-color: var(--fill-color);\n",
              "      border-left-color: var(--fill-color);\n",
              "    }\n",
              "    20% {\n",
              "      border-color: transparent;\n",
              "      border-left-color: var(--fill-color);\n",
              "      border-top-color: var(--fill-color);\n",
              "    }\n",
              "    30% {\n",
              "      border-color: transparent;\n",
              "      border-left-color: var(--fill-color);\n",
              "      border-top-color: var(--fill-color);\n",
              "      border-right-color: var(--fill-color);\n",
              "    }\n",
              "    40% {\n",
              "      border-color: transparent;\n",
              "      border-right-color: var(--fill-color);\n",
              "      border-top-color: var(--fill-color);\n",
              "    }\n",
              "    60% {\n",
              "      border-color: transparent;\n",
              "      border-right-color: var(--fill-color);\n",
              "    }\n",
              "    80% {\n",
              "      border-color: transparent;\n",
              "      border-right-color: var(--fill-color);\n",
              "      border-bottom-color: var(--fill-color);\n",
              "    }\n",
              "    90% {\n",
              "      border-color: transparent;\n",
              "      border-bottom-color: var(--fill-color);\n",
              "    }\n",
              "  }\n",
              "</style>\n",
              "\n",
              "  <script>\n",
              "    async function quickchart(key) {\n",
              "      const quickchartButtonEl =\n",
              "        document.querySelector('#' + key + ' button');\n",
              "      quickchartButtonEl.disabled = true;  // To prevent multiple clicks.\n",
              "      quickchartButtonEl.classList.add('colab-df-spinner');\n",
              "      try {\n",
              "        const charts = await google.colab.kernel.invokeFunction(\n",
              "            'suggestCharts', [key], {});\n",
              "      } catch (error) {\n",
              "        console.error('Error during call to suggestCharts:', error);\n",
              "      }\n",
              "      quickchartButtonEl.classList.remove('colab-df-spinner');\n",
              "      quickchartButtonEl.classList.add('colab-df-quickchart-complete');\n",
              "    }\n",
              "    (() => {\n",
              "      let quickchartButtonEl =\n",
              "        document.querySelector('#df-133f4e16-f5fc-4f80-b073-96445c27fc1f button');\n",
              "      quickchartButtonEl.style.display =\n",
              "        google.colab.kernel.accessAllowed ? 'block' : 'none';\n",
              "    })();\n",
              "  </script>\n",
              "</div>\n",
              "\n",
              "    </div>\n",
              "  </div>\n"
            ],
            "application/vnd.google.colaboratory.intrinsic+json": {
              "type": "dataframe",
              "variable_name": "X",
              "summary": "{\n  \"name\": \"X\",\n  \"rows\": 7050,\n  \"fields\": [\n    {\n      \"column\": \"time\",\n      \"properties\": {\n        \"dtype\": \"category\",\n        \"num_unique_values\": 1050,\n        \"samples\": [\n          \"00:10:00\",\n          \"12:04:00\",\n          \"02:47:00\"\n        ],\n        \"semantic_type\": \"\",\n        \"description\": \"\"\n      }\n    },\n    {\n      \"column\": \"hour\",\n      \"properties\": {\n        \"dtype\": \"int32\",\n        \"num_unique_values\": 24,\n        \"samples\": [\n          5,\n          11,\n          6\n        ],\n        \"semantic_type\": \"\",\n        \"description\": \"\"\n      }\n    },\n    {\n      \"column\": \"num_reactions\",\n      \"properties\": {\n        \"dtype\": \"number\",\n        \"std\": 462,\n        \"min\": 0,\n        \"max\": 4710,\n        \"num_unique_values\": 1067,\n        \"samples\": [\n          406,\n          1864,\n          317\n        ],\n        \"semantic_type\": \"\",\n        \"description\": \"\"\n      }\n    }\n  ]\n}"
            }
          },
          "metadata": {},
          "execution_count": 9
        }
      ]
    },
    {
      "cell_type": "code",
      "source": [
        "#grouping the reactions by the hour and calculating the mean\n",
        "hourly_reactions = X.groupby('hour')['num_reactions'].mean()\n",
        "\n",
        "#plotting these values as a line plot\n",
        "plt.figure(figsize=(10,6))\n",
        "plt.plot(hourly_reactions.index, hourly_reactions.values, marker='o', linestyle='-', color='b')\n",
        "plt.title('Hourly Reactions')\n",
        "plt.xlabel('Hour')\n",
        "plt.ylabel('Mean Reactions')\n",
        "plt.grid(True)\n",
        "plt.show()"
      ],
      "metadata": {
        "colab": {
          "base_uri": "https://localhost:8080/",
          "height": 564
        },
        "id": "DMuB-OtIlkrQ",
        "outputId": "f25453bc-3d63-4fc6-ba2c-0ed45c9e9d1c"
      },
      "execution_count": null,
      "outputs": [
        {
          "output_type": "display_data",
          "data": {
            "text/plain": [
              "<Figure size 1000x600 with 1 Axes>"
            ],
            "image/png": "[encoded data removed]"
          },
          "metadata": {}
        }
      ]
    },
    {
      "cell_type": "code",
      "source": [
        "correlation = X['hour'].corr(X['num_reactions'], method='spearman')\n",
        "print(\"The correlation between the hour of posting and the number of reactions gained: \", correlation)"
      ],
      "metadata": {
        "colab": {
          "base_uri": "https://localhost:8080/"
        },
        "id": "AJNDGkGl00jK",
        "outputId": "d47605f9-dbfa-4e76-c9cf-e1aff34fb2cb"
      },
      "execution_count": null,
      "outputs": [
        {
          "output_type": "stream",
          "name": "stdout",
          "text": [
            "The correlation between the hour of posting and the number of reactions gained:  0.005364889674976996\n"
          ]
        }
      ]
    },
    {
      "cell_type": "code",
      "source": [
        "peak_hour = hourly_reactions.idxmax()\n",
        "print(f\"Peak hour for reactions: {peak_hour}:00\")"
      ],
      "metadata": {
        "colab": {
          "base_uri": "https://localhost:8080/"
        },
        "id": "xhqJBuAc3KDe",
        "outputId": "d3b130f6-59b5-4b64-9ed9-adb8f7c06cc2"
      },
      "execution_count": null,
      "outputs": [
        {
          "output_type": "stream",
          "name": "stdout",
          "text": [
            "Peak hour for reactions: 19:00\n"
          ]
        }
      ]
    },
    {
      "cell_type": "markdown",
      "source": [
        "**Analysis**\n",
        "\n",
        "The number of reactions has an erratic trend throughout the day and depends on the time of posting. It severely drops in the early hours of the day and late hours of the night, considering natural sleep times of a majority of the population.\n",
        "\n",
        "It sees a steady hike in the morning, with a sudden spike at around 6 a.m., since a lot of people check their phones immediately after they wake up.\n",
        "\n",
        "Later, there is a drop and the trend is maintained at an almost steady state during the usual work hours. The number again sees a rise in the evening, when most people get off work and spend time on social media, with the highest number being achieved around 7 p.m."
      ],
      "metadata": {
        "id": "lzXDFr5Y1Emy"
      }
    },
    {
      "cell_type": "markdown",
      "source": [
        "#2. Calculating the correlation between the number of reactions and other engagement metrics"
      ],
      "metadata": {
        "id": "9E7nSucY3Vc4"
      }
    },
    {
      "cell_type": "code",
      "source": [
        "#determining the type of relationship between num_reactions and num_shares\n",
        "plt.figure(figsize=(7,3))\n",
        "plt.scatter(dataset['num_reactions'].values, dataset['num_shares'].values, color='r')\n",
        "plt.title('Reactions vs Shares')\n",
        "plt.xlabel('Reactions')\n",
        "plt.ylabel('Shares')\n",
        "plt.grid(True)\n",
        "plt.show()"
      ],
      "metadata": {
        "colab": {
          "base_uri": "https://localhost:8080/",
          "height": 333
        },
        "id": "VmTTY_urQFta",
        "outputId": "2745202c-89a0-4e53-8bee-988c290fbed3"
      },
      "execution_count": null,
      "outputs": [
        {
          "output_type": "display_data",
          "data": {
            "text/plain": [
              "<Figure size 700x300 with 1 Axes>"
            ],
            "image/png": "[encoded data removed]"
          },
          "metadata": {}
        }
      ]
    },
    {
      "cell_type": "markdown",
      "source": [
        "The above plot shows that the relationship between num_reactions and num_shares is non-linear. Thus, Spearman's correlation is the best suited option"
      ],
      "metadata": {
        "id": "_p9A_eICRXc1"
      }
    },
    {
      "cell_type": "code",
      "source": [
        "#Spearman's Correlation\n",
        "correlation = dataset['num_reactions'].corr(dataset['num_shares'], method='spearman')\n",
        "print(\"The correlation between the number of reactions and the number of shares: \", correlation)"
      ],
      "metadata": {
        "colab": {
          "base_uri": "https://localhost:8080/"
        },
        "id": "57_scCAjPnIY",
        "outputId": "3dac2a9f-13a7-436a-dd41-b1f287a18564"
      },
      "execution_count": null,
      "outputs": [
        {
          "output_type": "stream",
          "name": "stdout",
          "text": [
            "The correlation between the number of reactions and the number of shares:  0.5578244237479288\n"
          ]
        }
      ]
    },
    {
      "cell_type": "code",
      "source": [
        "#determining the type of relationship between num_reactions and num_comments\n",
        "plt.figure(figsize=(7,3))\n",
        "plt.scatter(dataset['num_reactions'].values, dataset['num_comments'].values, color='g')\n",
        "plt.title('Reactions vs Comments')\n",
        "plt.xlabel('Reactions')\n",
        "plt.ylabel('Comments')\n",
        "plt.grid(True)\n",
        "plt.show()"
      ],
      "metadata": {
        "colab": {
          "base_uri": "https://localhost:8080/",
          "height": 333
        },
        "id": "9yy_maxWRufO",
        "outputId": "3dd649da-522e-4947-a17c-bf0c7e8e3ad9"
      },
      "execution_count": null,
      "outputs": [
        {
          "output_type": "display_data",
          "data": {
            "text/plain": [
              "<Figure size 700x300 with 1 Axes>"
            ],
            "image/png": "[encoded data removed]"
          },
          "metadata": {}
        }
      ]
    },
    {
      "cell_type": "markdown",
      "source": [
        "The above plot shows that the relationship between num_reactions and num_shares is non-linear. Thus, Spearman's correlation is the best suited option"
      ],
      "metadata": {
        "id": "0tEqQXOYSHSw"
      }
    },
    {
      "cell_type": "code",
      "source": [
        "#Spearman's Correlation\n",
        "correlation = dataset['num_reactions'].corr(dataset['num_comments'], method='spearman')\n",
        "print(\"The correlation between the number of reactions and the number of comments: \", correlation)"
      ],
      "metadata": {
        "colab": {
          "base_uri": "https://localhost:8080/"
        },
        "id": "iHZJXvGrSMAo",
        "outputId": "0437ebaa-6f02-4f63-f07d-080a6eab5fef"
      },
      "execution_count": null,
      "outputs": [
        {
          "output_type": "stream",
          "name": "stdout",
          "text": [
            "The correlation between the number of reactions and the number of comments:  0.7317313718861309\n"
          ]
        }
      ]
    },
    {
      "cell_type": "markdown",
      "source": [
        "**Analysis**\n",
        "\n",
        "**Correlation between num_reactions and num_shares: 0.557**\n",
        "\n",
        "These features have a positive monotonic relationship, indicating that the increase in one feature generally causes an increase in the other, but it need not be a strictly linear relationship.  \n",
        "\n",
        "**Correlation between num_reactions and num_comments: 0.731**\n",
        "\n",
        "Indicates a very strong positive monotonic relationship. Increase or decrease in one feature most likely causes a change in the same direction for the other feature as well."
      ],
      "metadata": {
        "id": "i0NWVKn2U6O7"
      }
    },
    {
      "cell_type": "markdown",
      "source": [
        "#3. Training a K-Means Clustering Model\n",
        "#4. Finding the optimal k value using Elbow Method"
      ],
      "metadata": {
        "id": "y3fxZoC3WDCO"
      }
    },
    {
      "cell_type": "code",
      "source": [
        "from sklearn.cluster import KMeans\n",
        "from sklearn.preprocessing import StandardScaler, OneHotEncoder\n",
        "from sklearn.decomposition import PCA\n",
        "\n",
        "# Select and preprocess columns\n",
        "columns = ['status_type', 'num_reactions', 'num_comments', 'num_shares',\n",
        "           'num_likes', 'num_loves', 'num_wows', 'num_hahas', 'num_sads', 'num_angrys']\n",
        "df_selected = dataset[columns].copy()\n",
        "\n",
        "# Encode the 'status_type' column\n",
        "df_selected = pd.get_dummies(df_selected, columns=['status_type'])\n",
        "\n",
        "# Scale the data\n",
        "scaler = StandardScaler()\n",
        "scaled_data = scaler.fit_transform(df_selected)"
      ],
      "metadata": {
        "id": "suQeTyv8V5ye",
        "collapsed": true
      },
      "execution_count": null,
      "outputs": []
    },
    {
      "cell_type": "code",
      "source": [
        "# Elbow method to determine optimal k\n",
        "inertia = []\n",
        "K = range(1, 11)  # Testing k values from 1 to 10\n",
        "for k in K:\n",
        "    kmeans = KMeans(n_clusters=k, random_state=42)\n",
        "    kmeans.fit(scaled_data)\n",
        "    inertia.append(kmeans.inertia_)  # Store the inertia (WCSS)\n",
        "\n",
        "# Plot the results\n",
        "plt.figure(figsize=(4, 4))\n",
        "plt.plot(K, inertia, 'bo-')\n",
        "plt.xlabel('Number of Clusters (k)')\n",
        "plt.ylabel('Inertia (Within-Cluster Sum of Squares)')\n",
        "plt.title('Elbow Method for Optimal k')\n",
        "plt.show()"
      ],
      "metadata": {
        "colab": {
          "base_uri": "https://localhost:8080/",
          "height": 410
        },
        "id": "yJE35oNLF-HU",
        "outputId": "1e38b2ba-d338-4c47-ba2f-70935fd045cf"
      },
      "execution_count": null,
      "outputs": [
        {
          "output_type": "display_data",
          "data": {
            "text/plain": [
              "<Figure size 400x400 with 1 Axes>"
            ],
            "image/png": "[encoded data removed]"
          },
          "metadata": {}
        }
      ]
    },
    {
      "cell_type": "markdown",
      "source": [
        "Optimal number of clusters = 5"
      ],
      "metadata": {
        "id": "k4qB7PMap8UL"
      }
    },
    {
      "cell_type": "code",
      "source": [
        "# Train K-Means\n",
        "kmeans = KMeans(n_clusters=5, random_state=42)\n",
        "clusters = kmeans.fit_predict(scaled_data)\n",
        "\n",
        "# Apply PCA to reduce dimensions to 2D for visualization\n",
        "pca = PCA(n_components=2)\n",
        "pca_data = pca.fit_transform(scaled_data)"
      ],
      "metadata": {
        "id": "Nh7WSksnL3gs"
      },
      "execution_count": null,
      "outputs": []
    },
    {
      "cell_type": "code",
      "source": [
        "# Contributions of each original feature to each PCA component\n",
        "pca_components = pd.DataFrame(pca.components_, columns=df_selected.columns, index=['PCA Component 1', 'PCA Component 2'])\n",
        "print(pca_components)\n"
      ],
      "metadata": {
        "colab": {
          "base_uri": "https://localhost:8080/"
        },
        "id": "3I0eMG6QHJ4V",
        "outputId": "4d999238-886a-423c-9b38-4b28a06a12bf"
      },
      "execution_count": null,
      "outputs": [
        {
          "output_type": "stream",
          "name": "stdout",
          "text": [
            "                 num_reactions  num_comments  num_shares  num_likes  \\\n",
            "PCA Component 1       0.253910      0.338451    0.427686   0.213546   \n",
            "PCA Component 2       0.602895     -0.162594   -0.115821   0.624452   \n",
            "\n",
            "                 num_loves  num_wows  num_hahas  num_sads  num_angrys  \\\n",
            "PCA Component 1   0.441552  0.263660   0.286702  0.149263     0.21957   \n",
            "PCA Component 2  -0.066546  0.128772  -0.033303 -0.040318    -0.03665   \n",
            "\n",
            "                 status_type_link  status_type_photo  status_type_status  \\\n",
            "PCA Component 1         -0.005820          -0.289822           -0.000630   \n",
            "PCA Component 2          0.042591           0.227152            0.160904   \n",
            "\n",
            "                 status_type_video  \n",
            "PCA Component 1           0.302091  \n",
            "PCA Component 2          -0.319898  \n"
          ]
        }
      ]
    },
    {
      "cell_type": "code",
      "source": [
        "# Visualize the clusters with PCA components\n",
        "# Plot each cluster separately to add a legend\n",
        "plt.figure(figsize=(6, 4))\n",
        "\n",
        "for cluster_label in np.unique(clusters):\n",
        "    plt.scatter(\n",
        "        pca_data[clusters == cluster_label, 0],  # PCA Component 1 for points in this cluster\n",
        "        pca_data[clusters == cluster_label, 1],  # PCA Component 2 for points in this cluster\n",
        "        label=f'Cluster {cluster_label}',        # Label for the legend\n",
        "        s=50\n",
        "    )\n",
        "\n",
        "plt.xlabel('PCA Component 1')\n",
        "plt.ylabel('PCA Component 2')\n",
        "plt.title('K-Means Clusters with PCA')\n",
        "plt.legend(title='Clusters')  # Add a legend with the cluster labels\n",
        "plt.show()"
      ],
      "metadata": {
        "colab": {
          "base_uri": "https://localhost:8080/",
          "height": 410
        },
        "id": "38ZK_w0_MRji",
        "outputId": "eaa483f4-d0fc-4640-e368-3718a8eccde2"
      },
      "execution_count": null,
      "outputs": [
        {
          "output_type": "display_data",
          "data": {
            "text/plain": [
              "<Figure size 600x400 with 1 Axes>"
            ],
            "image/png": "[encoded data removed]"
          },
          "metadata": {}
        }
      ]
    },
    {
      "cell_type": "markdown",
      "source": [
        "**Analysis**\n",
        "\n",
        "The required columns were selected from the original dataframe and were scaled and transformed.\n",
        "\n",
        "The elbow method clearly suggests that the optimal number of clusters is 5.\n",
        "\n",
        "PCA was used for dimensionality reduction since a huge number of features were used while training the k-means model. Hence the visualization would be very challenging. PCA helps to curb this problem.\n",
        "\n",
        "The major contributors for PCA Component 1 are the engagement metrics like shares, comments, likes, and reactions like wows, happys, sads, etc. On the other hand, the contributors for PCA Component 2 are the types of posts, like video, photo, link, and status.\n",
        "\n",
        "The clusters are highly overlapping and hence might imply a lot of shared characteristics between the them.\n",
        "\n",
        "Cluster 1 - Has high variability, and indicates varied responses for each post of a similar type\n",
        "\n",
        "Cluster 0 and 2 - Achieves consistent results with the engagement metrics across different types of posts and hence displays stability\n",
        "\n",
        "Cluster 3 and 4 - Show diversity in engagement metrics, but are probably meant for a niche audience with a preference for specific content type.\n",
        "\n",
        "Hence, the creators of the posts must analyse why posts in cluster 1 are getting varie reactions and also draw insights from clusters 0 and 2, since they show consistency with respect to the metrics."
      ],
      "metadata": {
        "id": "9BSU_mmSMoHo"
      }
    },
    {
      "cell_type": "markdown",
      "source": [
        "#5. Count of different types of Posts"
      ],
      "metadata": {
        "id": "sajB53XDw8uK"
      }
    },
    {
      "cell_type": "code",
      "source": [
        "dataset.groupby('status_type').size()"
      ],
      "metadata": {
        "colab": {
          "base_uri": "https://localhost:8080/",
          "height": 241
        },
        "id": "Na0WyDT5xDcC",
        "outputId": "bd3aca80-b1fc-4481-a36a-26d5c23bb170"
      },
      "execution_count": null,
      "outputs": [
        {
          "output_type": "execute_result",
          "data": {
            "text/plain": [
              "status_type\n",
              "link        63\n",
              "photo     4288\n",
              "status     365\n",
              "video     2334\n",
              "dtype: int64"
            ],
            "text/html": [
              "<div>\n",
              "<style scoped>\n",
              "    .dataframe tbody tr th:only-of-type {\n",
              "        vertical-align: middle;\n",
              "    }\n",
              "\n",
              "    .dataframe tbody tr th {\n",
              "        vertical-align: top;\n",
              "    }\n",
              "\n",
              "    .dataframe thead th {\n",
              "        text-align: right;\n",
              "    }\n",
              "</style>\n",
              "<table border=\"1\" class=\"dataframe\">\n",
              "  <thead>\n",
              "    <tr style=\"text-align: right;\">\n",
              "      <th></th>\n",
              "      <th>0</th>\n",
              "    </tr>\n",
              "    <tr>\n",
              "      <th>status_type</th>\n",
              "      <th></th>\n",
              "    </tr>\n",
              "  </thead>\n",
              "  <tbody>\n",
              "    <tr>\n",
              "      <th>link</th>\n",
              "      <td>63</td>\n",
              "    </tr>\n",
              "    <tr>\n",
              "      <th>photo</th>\n",
              "      <td>4288</td>\n",
              "    </tr>\n",
              "    <tr>\n",
              "      <th>status</th>\n",
              "      <td>365</td>\n",
              "    </tr>\n",
              "    <tr>\n",
              "      <th>video</th>\n",
              "      <td>2334</td>\n",
              "    </tr>\n",
              "  </tbody>\n",
              "</table>\n",
              "</div><br><label><b>dtype:</b> int64</label>"
            ]
          },
          "metadata": {},
          "execution_count": 22
        }
      ]
    },
    {
      "cell_type": "markdown",
      "source": [
        "**Analysis**\n",
        "\n",
        "Most posts are of the type \"Photo\", closely followed by \"Video\". While \"Status\" is posted a considerable number of times, \"Links\" are barely used. This highlights the content preferences of the audience."
      ],
      "metadata": {
        "id": "whEb9TG4ktF9"
      }
    },
    {
      "cell_type": "markdown",
      "source": [
        "#6. Average value of num_reaction, num_comments, num_shares for each post type"
      ],
      "metadata": {
        "id": "nDGKnxQixilm"
      }
    },
    {
      "cell_type": "code",
      "source": [
        "reaction_avg = dataset.groupby('status_type')['num_reactions'].mean()\n",
        "comment_avg = dataset.groupby('status_type')['num_comments'].mean()\n",
        "share_avg = dataset.groupby('status_type')['num_shares'].mean()"
      ],
      "metadata": {
        "id": "CoaDpNvwxiIU"
      },
      "execution_count": null,
      "outputs": []
    },
    {
      "cell_type": "code",
      "source": [
        "print(\"Average value of num_reaction for each post type: \")\n",
        "print(reaction_avg)\n",
        "print(\"\\nAverage value of num_comments for each post type: \")\n",
        "print(comment_avg)\n",
        "print(\"\\nAverage value of num_shares for each post type: \")\n",
        "print(share_avg)"
      ],
      "metadata": {
        "colab": {
          "base_uri": "https://localhost:8080/"
        },
        "id": "N5VL2KhKxzw9",
        "outputId": "0c3fe4ff-bec4-4962-8f87-099de0f9ff97"
      },
      "execution_count": null,
      "outputs": [
        {
          "output_type": "stream",
          "name": "stdout",
          "text": [
            "Average value of num_reaction for each post type: \n",
            "status_type\n",
            "link      370.142857\n",
            "photo     181.290345\n",
            "status    438.783562\n",
            "video     283.409597\n",
            "Name: num_reactions, dtype: float64\n",
            "\n",
            "Average value of num_comments for each post type: \n",
            "status_type\n",
            "link        5.698413\n",
            "photo      15.993470\n",
            "status     36.238356\n",
            "video     642.478149\n",
            "Name: num_comments, dtype: float64\n",
            "\n",
            "Average value of num_shares for each post type: \n",
            "status_type\n",
            "link        4.396825\n",
            "photo       2.553871\n",
            "status      2.558904\n",
            "video     115.679949\n",
            "Name: num_shares, dtype: float64\n"
          ]
        }
      ]
    },
    {
      "cell_type": "markdown",
      "source": [
        "**Analysis**\n",
        "\n",
        "Videos are shared the most and also receive the highest number of comments, while links gain the highest number of reactions on an average. The other post types have a consistent number of shares and comments on an average."
      ],
      "metadata": {
        "id": "NygYVWU8lINX"
      }
    }
  ]
}